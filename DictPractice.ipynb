{
 "cells": [
  {
   "cell_type": "code",
   "execution_count": 17,
   "metadata": {},
   "outputs": [
    {
     "name": "stdout",
     "output_type": "stream",
     "text": [
      "[('t', 2), ('s', 3), ('r', 1), ('o', 1), ('n', 2), ('l', 1), ('i', 3), ('h', 1), ('g', 2), ('a', 1)] \n",
      " \n",
      " {'i': 3, 's': 3, 't': 2, 'n': 2, 'g': 2, 'h': 1, 'a': 1, 'l': 1, 'o': 1, 'r': 1}\n",
      "\n",
      "\n"
     ]
    }
   ],
   "source": [
    "def letter_count(string):\n",
    "  dicti = {}\n",
    "  for letter in string:\n",
    "    if letter not in (' ', '!'):\n",
    "      if letter not in dicti:\n",
    "        dicti[letter]=0\n",
    "      dicti[letter]+=1\n",
    "  sorted_tuple=sorted(dicti.items(),reverse=True)\n",
    "  sorted_dicti=dict(sorted(dicti.items(),key=lambda item: item[1], reverse=True))\n",
    "  return '{} \\n \\n {}'.format(sorted_tuple, sorted_dicti)\n",
    "print(letter_count('this is a long string!'))\n",
    "print(str('\\n'))"
   ]
  },
  {
   "cell_type": "code",
   "execution_count": 18,
   "metadata": {},
   "outputs": [
    {
     "name": "stdout",
     "output_type": "stream",
     "text": [
      "\n",
      "\n",
      "dict_items([('T', 1), ('h', 3), ('i', 6), ('s', 3), ('m', 1), ('y', 1), ('t', 4), ('r', 3), ('n', 3), ('g', 1), ('f', 2), ('o', 4), ('e', 2), ('u', 1), ('c', 1), ('p', 1), ('w', 1), ('k', 1), ('S', 1)]) \n",
      "\n",
      " [('S', 1), ('T', 1), ('c', 1), ('e', 2), ('f', 2), ('g', 1), ('h', 3), ('i', 6), ('k', 1), ('m', 1), ('n', 3), ('o', 4), ('p', 1), ('r', 3), ('s', 3), ('t', 4), ('u', 1), ('w', 1), ('y', 1)]\n",
      "\n",
      "{'S': 1, 'T': 1, 'c': 1, 'e': 2, 'f': 2, 'g': 1, 'h': 3, 'i': 6, 'k': 1, 'm': 1, 'n': 3, 'o': 4, 'p': 1, 'r': 3, 's': 3, 't': 4, 'u': 1, 'w': 1, 'y': 1}\n",
      "\n",
      "\n"
     ]
    }
   ],
   "source": [
    "def count_letters(string):\n",
    "  letter_amounts={}\n",
    "  for letter in string:\n",
    "    if letter not in (' ', '!'):\n",
    "      if letter not in letter_amounts:\n",
    "        letter_amounts[letter]=0\n",
    "      letter_amounts[letter]+=1\n",
    "\n",
    "  la_tuple=letter_amounts.items()\n",
    "\n",
    "  sorted_tup=sorted(la_tuple)\n",
    "  sorted_let_am=dict(sorted_tup)\n",
    "\n",
    "  return '\\n\\n{} \\n\\n {}\\n\\n{}'.format(la_tuple, sorted_tup, sorted_let_am)\n",
    "\n",
    "print(count_letters('This is my string for the function i hope it workS!'))\n",
    "\n",
    "print(str('\\n'))"
   ]
  },
  {
   "cell_type": "code",
   "execution_count": null,
   "metadata": {},
   "outputs": [],
   "source": [
    "dd={}\n",
    "dd['sam']='one','two'\n",
    "dd[5]=0,1,2,3,4,5,6\n",
    "print(dd)\n",
    "dd[5]=44\n",
    "result=str(dd)\n",
    "print(result)\n",
    "print(str('\\n'))"
   ]
  },
  {
   "cell_type": "code",
   "execution_count": null,
   "metadata": {},
   "outputs": [],
   "source": [
    "rr={}\n",
    "rr[10]=['one', 'two']\n",
    "rr[10].extend(['three', 'four', 'five', 'six'])\n",
    "rr['S']=['string']\n",
    "rr['S'].append('string2')\n",
    "print(rr)\n",
    "print(str('\\n'))"
   ]
  },
  {
   "cell_type": "code",
   "execution_count": null,
   "metadata": {},
   "outputs": [],
   "source": [
    "rr={}\n",
    "rr[10]=['one', 'two']\n",
    "rr[10].extend(['three', 'four', 'five', 'six'])\n",
    "rr['S']=['string']\n",
    "rr['S'].append('string2')\n",
    "print(rr)\n",
    "print(str('\\n'))"
   ]
  },
  {
   "cell_type": "code",
   "execution_count": null,
   "metadata": {},
   "outputs": [],
   "source": [
    "def list_full_names(employee_dictionary):\n",
    "  full_names=[]\n",
    "  for lastname, firstnames in employee_dictionary.items():\n",
    "    for firstname in firstnames:\n",
    "      full_names.append(firstname+' '+lastname)\n",
    "\n",
    "\n",
    "    \n",
    "  return full_names\n",
    "    \n",
    "print(list_full_names({\"Ali\": [\"Muhammad\", \"Amir\", \"Malik\"], \"Devi\": [\"Ram\", \"Amaira\"], \"Chen\": [\"Feng\", \"Li\"]}))\n",
    "# Should print ['Muhammad Ali',etc...\n",
    "print(str('\\n'))\n"
   ]
  },
  {
   "cell_type": "code",
   "execution_count": null,
   "metadata": {},
   "outputs": [],
   "source": [
    "def invert_resource_dict(resource_dictionary):\n",
    "  new_dictionary = {}\n",
    "  for resource_group, resources in resource_dictionary.items():\n",
    "    for resource in resources:\n",
    " \n",
    "      if resource in new_dictionary:\n",
    "        new_dictionary[resource].append(resource_group)   \n",
    "      else:\n",
    "        new_dictionary[resource] = [resource_group]\n",
    "  return new_dictionary\n",
    "\n",
    "print(invert_resource_dict({\"Hard Drives\": [\"IDE HDDs\", \"SCSI HDDs\"],\n",
    "\n",
    "        \"PC Parts\":  [\"IDE HDDs\", \"SCSI HDDs\", \"High-end video cards\", \"Basic video cards\"], \"Video Cards\": [\"High-end video cards\", \"Basic video cards\"]}))\n",
    "# Should print {'IDE HDDs': ['Hard Drives', 'PC Parts'], 'SCSI HDDs': ['Hard Drives', 'PC Parts'], 'High-end video cards': ['PC Parts', 'Video Cards'], 'Basic video cards': ['PC Parts', 'Video Cards']}\n",
    "print(str('\\n'))"
   ]
  },
  {
   "cell_type": "code",
   "execution_count": null,
   "metadata": {},
   "outputs": [],
   "source": [
    "def sum_server_use_time(Server):\n",
    "\n",
    "  total_use_time = 0.0\n",
    "\n",
    "  for key,value in Server.items():\n",
    "\n",
    "    total_use_time += Server[key]\n",
    "\n",
    "  return round(total_use_time, 2)\n",
    "  \n",
    "FileServer = {\"EndUser1\": 2.25, \"EndUser2\": 4.5, \"EndUser3\": 1, \"EndUser4\": 3.75, \"EndUser5\": 0.6, \"EndUser6\": 8}\n",
    "print(sum_server_use_time(FileServer))\n",
    "print(str('\\n'))"
   ]
  }
 ],
 "metadata": {
  "kernelspec": {
   "display_name": "Python 3",
   "language": "python",
   "name": "python3"
  },
  "language_info": {
   "codemirror_mode": {
    "name": "ipython",
    "version": 3
   },
   "file_extension": ".py",
   "mimetype": "text/x-python",
   "name": "python",
   "nbconvert_exporter": "python",
   "pygments_lexer": "ipython3",
   "version": "3.11.4"
  },
  "orig_nbformat": 4
 },
 "nbformat": 4,
 "nbformat_minor": 2
}
